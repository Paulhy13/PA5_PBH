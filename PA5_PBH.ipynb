{
 "cells": [
  {
   "cell_type": "markdown",
   "id": "3eb4156c",
   "metadata": {},
   "source": [
    "### Paul Hyden, PA5, FA22"
   ]
  },
  {
   "cell_type": "code",
   "execution_count": null,
   "id": "a0c460e8",
   "metadata": {},
   "outputs": [],
   "source": [
    "translate = {'couch' : 'tolg',\n",
    "            'ball' : 'liathroid',\n",
    "            'foot' : 'chos',\n",
    "            'hand' : 'lamh',\n",
    "            'car' : 'carr',\n",
    "            'train' : 'traein',\n",
    "            'airplane' : 'eitlean',\n",
    "            'foot' : 'chos',\n",
    "            'phone' : 'fon',\n",
    "            'computer' : 'riomhaire',\n",
    "            'dog' : 'madra',\n",
    "            'kitty' : 'caitin',\n",
    "            'soccer' : 'sacar',\n",
    "            'basketball' : 'cispheil',\n",
    "            'girl' : 'cailin',\n",
    "            'boy' : 'buachaill',\n",
    "            'chair' : 'cathaoir',\n",
    "            'table' : 'tabla',\n",
    "            'arm' : 'lamh',\n",
    "            'school' : 'scoil'}\n",
    "while True:\n",
    "    \n",
    "    answer = input(\"Enter a word to translate from English to Irish (enter 0 to stop)\\n: \")\n",
    "    if answer == '0':\n",
    "        break\n",
    "    second_char = answer[1]\n",
    "    if answer in translate:\n",
    "        print(\"The Irish word for \" + answer + \" is \" + translate[answer] + \".\")\n",
    "    else:\n",
    "        print(\"The Irish word for \" + answer + \" is not in this dictionary.\")"
   ]
  },
  {
   "cell_type": "code",
   "execution_count": 4,
   "id": "eec716b3",
   "metadata": {},
   "outputs": [
    {
     "name": "stdout",
     "output_type": "stream",
     "text": [
      "{'1st September': 27.78, '2nd September': 26.11, '3rd September': 27.22, '4th September': 26.11, '5th September': 26.11, '6th September': 25.56, '7th September': 26.11, '8th September': 26.11, '9th September': 25.56, '10th September': 26.11, '11th September': 26.11, '12th September': 26.11, '13th September': 26.11, '14th September': 26.11, '15th September': 26.11, '16th September': 26.11, '17th September': 26.11, '18th September': 26.11, '19th September': 26.11, '20th September': 26.11, '21st September': 26.11, '22nd September': 26.11, '23rd September': 26.11, '24th September': 26.11, '25th September': 26.11, '26th September': 26.11, '27th September': 26.11, '28th September': 25.56, '29th September': 26.11, '30th September': 26.11}\n"
     ]
    }
   ],
   "source": [
    "weather_dict = {\n",
    "    '1st September': 82,\n",
    "    '2nd September': 79,\n",
    "    '3rd September': 81,\n",
    "    '4th September': 79,\n",
    "    '5th September': 79,\n",
    "    '6th September': 78,\n",
    "    '7th September': 79,\n",
    "    '8th September': 79,\n",
    "    '9th September': 78,\n",
    "    '10th September': 79,\n",
    "    '11th September': 79,\n",
    "    '12th September': 79,\n",
    "    '13th September': 79,\n",
    "    '14th September': 79,\n",
    "    '15th September': 79,\n",
    "    '16th September': 79,\n",
    "    '17th September': 79,\n",
    "    '18th September': 79,\n",
    "    '19th September': 79,\n",
    "    '20th September': 79,\n",
    "    '21st September': 79,\n",
    "    '22nd September': 79,\n",
    "    '23rd September': 79,\n",
    "    '24th September': 79,\n",
    "    '25th September': 79,\n",
    "    '26th September': 79,\n",
    "    '27th September': 79,\n",
    "    '28th September': 78,\n",
    "    '29th September': 79,\n",
    "    '30th September': 79\n",
    "}\n",
    "for key, value in weather_dict.items():\n",
    "    celsius_temp = (value - 32) * 5/9\n",
    "    weather_dict[key] = round(celsius_temp, 2)\n",
    "    \n",
    "print(weather_dict)"
   ]
  },
  {
   "cell_type": "code",
   "execution_count": 6,
   "id": "48bf38f0",
   "metadata": {},
   "outputs": [
    {
     "name": "stdout",
     "output_type": "stream",
     "text": [
      "{1: 1, 2: 4, 3: 9, 4: 16, 5: 25, 6: 36, 7: 49, 8: 64, 9: 81, 10: 100, 11: 121, 12: 144, 13: 169, 14: 196, 15: 225}\n"
     ]
    }
   ],
   "source": [
    "d=dict()\n",
    "for x in range(1,16):\n",
    "    d[x]=x**2\n",
    "print(d)  "
   ]
  },
  {
   "cell_type": "code",
   "execution_count": null,
   "id": "3ad06971",
   "metadata": {},
   "outputs": [],
   "source": []
  }
 ],
 "metadata": {
  "kernelspec": {
   "display_name": "Python 3 (ipykernel)",
   "language": "python",
   "name": "python3"
  },
  "language_info": {
   "codemirror_mode": {
    "name": "ipython",
    "version": 3
   },
   "file_extension": ".py",
   "mimetype": "text/x-python",
   "name": "python",
   "nbconvert_exporter": "python",
   "pygments_lexer": "ipython3",
   "version": "3.9.13"
  }
 },
 "nbformat": 4,
 "nbformat_minor": 5
}
